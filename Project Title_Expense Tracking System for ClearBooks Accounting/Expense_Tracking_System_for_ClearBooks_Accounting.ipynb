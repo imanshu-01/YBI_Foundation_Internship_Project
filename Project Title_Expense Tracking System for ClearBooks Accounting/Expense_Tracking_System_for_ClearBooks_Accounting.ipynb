{
  "cells": [
    {
      "cell_type": "code",
      "execution_count": null,
      "id": "46babb92",
      "metadata": {
        "id": "46babb92"
      },
      "outputs": [],
      "source": [
        "# 📘 Expense Tracking System for ClearBooks Accounting\n",
        "print('Hello from YBI Foundation 🚀')"
      ]
    },
    {
      "cell_type": "code",
      "source": [
        "# 📦 Section 1: Import Required Libraries\n",
        "import pandas as pd\n",
        "import numpy as np\n",
        "import matplotlib.pyplot as plt\n",
        "import seaborn as sns\n",
        "from wordcloud import WordCloud\n",
        "from sklearn.model_selection import train_test_split\n",
        "from sklearn.feature_extraction.text import TfidfVectorizer\n",
        "from sklearn.linear_model import LogisticRegression\n",
        "from sklearn.metrics import classification_report, confusion_matrix\n",
        "import warnings\n",
        "warnings.filterwarnings(\"ignore\")"
      ],
      "metadata": {
        "id": "FeFO3rLR-Rl9"
      },
      "id": "FeFO3rLR-Rl9",
      "execution_count": null,
      "outputs": []
    },
    {
      "cell_type": "code",
      "source": [
        "# 📂 Section 2: Load Dataset\n",
        "summary_df = pd.read_csv('/content/Expense_Summary_By_Category.csv')\n",
        "records_df = pd.read_csv('/content/Expense_Records_ClearBooks.csv')\n",
        "print(\"✅ Summary Shape:\", summary_df.shape)\n",
        "print(\"✅ Records Shape:\", records_df.shape)"
      ],
      "metadata": {
        "id": "huobNlp7-VQs"
      },
      "id": "huobNlp7-VQs",
      "execution_count": null,
      "outputs": []
    },
    {
      "cell_type": "code",
      "source": [
        "from google.colab import drive\n",
        "drive.mount('/content/drive')"
      ],
      "metadata": {
        "id": "zy7SsQxW_IVN"
      },
      "id": "zy7SsQxW_IVN",
      "execution_count": null,
      "outputs": []
    },
    {
      "cell_type": "code",
      "source": [
        "# 🧹 Section 3: Preprocessing\n",
        "df = records_df.copy()\n",
        "print(\"🧼 Null values:\n",
        "\", df.isnull().sum())\n",
        "df = df.dropna(subset=['Description', 'Category'])\n",
        "df[['Description', 'Category']].head()"
      ],
      "metadata": {
        "id": "d72Unkaf-cNA"
      },
      "id": "d72Unkaf-cNA",
      "execution_count": null,
      "outputs": []
    },
    {
      "cell_type": "code",
      "source": [
        "# 📊 Section 4: Exploratory Data Analysis\n",
        "plt.figure(figsize=(10,5))\n",
        "sns.countplot(y='Category', data=df, order=df['Category'].value_counts().index)\n",
        "plt.title(\"Expense Count by Category\")\n",
        "plt.show()\n",
        "\n",
        "text = \" \".join(df['Description'])\n",
        "wordcloud = WordCloud(width=800, height=400, background_color='white').generate(text)\n",
        "plt.figure(figsize=(10,5))\n",
        "plt.imshow(wordcloud, interpolation='bilinear')\n",
        "plt.axis('off')\n",
        "plt.title(\"WordCloud of Expense Descriptions\")\n",
        "plt.show()"
      ],
      "metadata": {
        "id": "agxfT_UI-f1E"
      },
      "id": "agxfT_UI-f1E",
      "execution_count": null,
      "outputs": []
    },
    {
      "cell_type": "code",
      "source": [
        "# 🔢 Section 5: Feature Engineering\n",
        "tfidf = TfidfVectorizer(max_features=3000)\n",
        "X = tfidf.fit_transform(df['Description'])\n",
        "y = df['Category']\n",
        "from sklearn.preprocessing import LabelEncoder\n",
        "le = LabelEncoder()\n",
        "y_encoded = le.fit_transform(y)\n",
        "X_train, X_test, y_train, y_test = train_test_split(X, y_encoded, test_size=0.2, random_state=42)"
      ],
      "metadata": {
        "id": "uFOAwL6K-goG"
      },
      "id": "uFOAwL6K-goG",
      "execution_count": null,
      "outputs": []
    },
    {
      "cell_type": "code",
      "source": [
        "# 🤖 Section 6: Model Training\n",
        "model = LogisticRegression(max_iter=1000)\n",
        "model.fit(X_train, y_train)"
      ],
      "metadata": {
        "id": "plsx7dzW-kgW"
      },
      "id": "plsx7dzW-kgW",
      "execution_count": null,
      "outputs": []
    },
    {
      "cell_type": "code",
      "source": [
        "# 📈 Section 7: Evaluation\n",
        "y_pred = model.predict(X_test)\n",
        "print(\"📋 Classification Report:\n",
        "\", classification_report(y_test, y_pred, target_names=le.classes_))\n",
        "plt.figure(figsize=(10,6))\n",
        "sns.heatmap(confusion_matrix(y_test, y_pred), annot=True, fmt='d',\n",
        "            xticklabels=le.classes_, yticklabels=le.classes_, cmap='Blues')\n",
        "plt.title(\"Confusion Matrix\")\n",
        "plt.ylabel(\"Actual\")\n",
        "plt.xlabel(\"Predicted\")\n",
        "plt.show()"
      ],
      "metadata": {
        "id": "yEpP-L5R-oUx"
      },
      "id": "yEpP-L5R-oUx",
      "execution_count": null,
      "outputs": []
    },
    {
      "cell_type": "code",
      "source": [
        "# 🔮 Section 8: Prediction on New Data\n",
        "sample_text = [\"Hotel bill at Taj\", \"Monthly Amazon Prime subscription\", \"Client dinner at Barbeque Nation\"]\n",
        "sample_features = tfidf.transform(sample_text)\n",
        "sample_pred = le.inverse_transform(model.predict(sample_features))\n",
        "for text, pred in zip(sample_text, sample_pred):\n",
        "    print(f'\"{text}\" ➤ Predicted Category: {pred}')"
      ],
      "metadata": {
        "id": "olrfyzki-r6z"
      },
      "id": "olrfyzki-r6z",
      "execution_count": null,
      "outputs": []
    }
  ],
  "metadata": {
    "colab": {
      "provenance": []
    },
    "language_info": {
      "name": "python"
    },
    "kernelspec": {
      "name": "python3",
      "display_name": "Python 3"
    }
  },
  "nbformat": 4,
  "nbformat_minor": 5
}